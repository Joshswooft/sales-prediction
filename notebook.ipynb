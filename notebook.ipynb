{
 "cells": [
  {
   "cell_type": "markdown",
   "metadata": {},
   "source": [
    "# Sales Prediction for BigMart\n",
    "\n",
    "## Problem Description\n",
    "\n",
    "The data scientists at BigMart have collected 2013 sales data for 1559 products across 10 stores in different cities. Also, certain attributes of each product and store have been defined. The aim of this data science project is to build a predictive model and find out the sales of each product at a particular store.\n",
    "\n",
    "Using this model, BigMart will try to understand the properties of products and stores which play a key role in increasing sales.\n",
    "\n",
    "The data has missing values as some stores do not report all the data due to technical glitches. Hence, it will be required to treat them accordingly.\n",
    "\n",
    "This project is a regression problem i.e. we are predicting a continous value and will be solved via supervised learning because we already have past sales data.\n",
    "\n",
    "## Hypothesis\n",
    "\n",
    "These hypotheses were taken from [here](https://www.analyticsvidhya.com/blog/2016/02/bigmart-sales-solution-top-20/).\n",
    "\n",
    "### Store Level Hypotheses:\n",
    "\n",
    "\n",
    "1. City type: Stores located in urban or Tier 1 cities should have higher sales because of the higher income levels of people there.\n",
    "1. Population Density: Stores located in densely populated areas should have higher sales because of more demand.\n",
    "1. Store Capacity: Stores which are very big in size should have higher sales as they act like one-stop-shops and people would prefer getting everything from one place\n",
    "1. Competitors: Stores having similar establishments nearby should have less sales because of more competition.\n",
    "1. Marketing: Stores which have a good marketing division should have higher sales as it will be able to attract customers through the right offers and advertising.\n",
    "1. Location: Stores located within popular marketplaces should have higher sales because of better access to customers.\n",
    "1. Customer Behavior: Stores keeping the right set of products to meet the local needs of customers will have higher sales.\n",
    "1. Ambiance: Stores which are well-maintained and managed by polite and humble people are expected to have higher footfall and thus higher sales.\n",
    "\n",
    "### Product Level Hypotheses:\n",
    "\n",
    "1. Brand: Branded products should have higher sales because of higher trust in the customer.\n",
    "1. Packaging: Products with good packaging can attract customers and sell more.\n",
    "1. Utility: Daily use products should have a higher tendency to sell as compared to the specific use products.\n",
    "1. Display Area: Products which are given bigger shelves in the store are likely to catch attention first and sell more.\n",
    "1. Visibility in Store: The location of product in a store will impact sales. Ones which are right at entrance will catch the eye of customer first rather than the ones in back.\n",
    "1. Advertising: Better advertising of products in the store will should higher sales in most cases.\n",
    "1. Promotional Offers: Products accompanied with attractive offers and discounts will sell more."
   ]
  },
  {
   "cell_type": "markdown",
   "metadata": {},
   "source": [
    "## Exploring the dataset\n",
    "\n",
    "| Variable                  | Description                                                                      |\n",
    "|---------------------------|----------------------------------------------------------------------------------|\n",
    "| Item_Identifier           | Unique Product ID                                                                |\n",
    "| Item_Weight               | Weight of product                                                                |\n",
    "| Item_Fat_Content          | Low in fat or not (Low Fat, Regular)                                             |\n",
    "| Item_Visibility           | % of total display area allocated to the product                                 |\n",
    "| Item_Type                 | Category for the product                                                         |\n",
    "| Item_MRP                  | Maximum Retail price of the product                                              |\n",
    "| Outlet_Identifier         | Unique Store ID                                                                  |\n",
    "| Outlet_Establishment_Year | Year store was made                                                              |\n",
    "| Outlet_Size               | Size of store (small, medium, high)                                              |\n",
    "| Outlet_Location_Type      | Type of city (tier 1, tier 2, tier 3)                                            |\n",
    "| Outlet_Type               | Supermarket or grocery                                                           |\n",
    "| Item_Outlet_Sales         | Sale of product in the particular store. (Also what we are trying to predict!!!) |"
   ]
  },
  {
   "cell_type": "markdown",
   "metadata": {},
   "source": [
    "## Getting Started\n",
    "\n",
    "We use a virtual environment to do all our development in, this ensures that we don't import modules that accidentally conflict with other project work. \n",
    "\n",
    "1. `python3 -m venv venv` - this will create your virtual environment inside a `venv` folder\n",
    "2. `source venv/bin/activate` - this will activate your virtual env\n",
    "3. `python3 -m pip install -r requirements.txt`\n",
    "4. If working on VSC you can press `cmd + shift + p` to bring up the command palette then type in `kernel` and select the `Notebook: select kernel` option then choose the virtual environment.\n",
    "\n",
    "## Adding new modules\n",
    "\n",
    "New modules should be added to the virtual env with the following command: `pip install <module-name>`\n",
    "After the module has been added you should update the `requirements.txt` file using: `pip freeze > requirements.txt`"
   ]
  },
  {
   "cell_type": "markdown",
   "metadata": {},
   "source": [
    "## Data analysis"
   ]
  },
  {
   "cell_type": "code",
   "execution_count": 1,
   "metadata": {},
   "outputs": [
    {
     "name": "stdout",
     "output_type": "stream",
     "text": [
      "(8523, 12) (8523, 12)\n"
     ]
    }
   ],
   "source": [
    "import pandas as pd\n",
    "\n",
    "train = pd.read_csv('data/train_kOBLwZA.csv')\n",
    "test = pd.read_csv('data/train_kOBLwZA.csv')\n",
    "\n",
    "print(train.shape, test.shape)"
   ]
  },
  {
   "cell_type": "code",
   "execution_count": 2,
   "metadata": {},
   "outputs": [
    {
     "name": "stdout",
     "output_type": "stream",
     "text": [
      "Item_Identifier               object\n",
      "Item_Weight                  float64\n",
      "Item_Fat_Content              object\n",
      "Item_Visibility              float64\n",
      "Item_Type                     object\n",
      "Item_MRP                     float64\n",
      "Outlet_Identifier             object\n",
      "Outlet_Establishment_Year      int64\n",
      "Outlet_Size                   object\n",
      "Outlet_Location_Type          object\n",
      "Outlet_Type                   object\n",
      "Item_Outlet_Sales            float64\n",
      "dtype: object\n",
      "<bound method NDFrame.head of       Item_Identifier  Item_Weight Item_Fat_Content  Item_Visibility  \\\n",
      "0               FDA15        9.300          Low Fat         0.016047   \n",
      "1               DRC01        5.920          Regular         0.019278   \n",
      "2               FDN15       17.500          Low Fat         0.016760   \n",
      "3               FDX07       19.200          Regular         0.000000   \n",
      "4               NCD19        8.930          Low Fat         0.000000   \n",
      "...               ...          ...              ...              ...   \n",
      "17041           FDF22        6.865          Low Fat         0.056783   \n",
      "17042           FDS36        8.380          Regular         0.046982   \n",
      "17043           NCJ29       10.600          Low Fat         0.035186   \n",
      "17044           FDN46        7.210          Regular         0.145221   \n",
      "17045           DRG01       14.800          Low Fat         0.044878   \n",
      "\n",
      "                   Item_Type  Item_MRP Outlet_Identifier  \\\n",
      "0                      Dairy  249.8092            OUT049   \n",
      "1                Soft Drinks   48.2692            OUT018   \n",
      "2                       Meat  141.6180            OUT049   \n",
      "3      Fruits and Vegetables  182.0950            OUT010   \n",
      "4                  Household   53.8614            OUT013   \n",
      "...                      ...       ...               ...   \n",
      "17041            Snack Foods  214.5218            OUT013   \n",
      "17042           Baking Goods  108.1570            OUT045   \n",
      "17043     Health and Hygiene   85.1224            OUT035   \n",
      "17044            Snack Foods  103.1332            OUT018   \n",
      "17045            Soft Drinks   75.4670            OUT046   \n",
      "\n",
      "       Outlet_Establishment_Year Outlet_Size Outlet_Location_Type  \\\n",
      "0                           1999      Medium               Tier 1   \n",
      "1                           2009      Medium               Tier 3   \n",
      "2                           1999      Medium               Tier 1   \n",
      "3                           1998         NaN               Tier 3   \n",
      "4                           1987        High               Tier 3   \n",
      "...                          ...         ...                  ...   \n",
      "17041                       1987        High               Tier 3   \n",
      "17042                       2002         NaN               Tier 2   \n",
      "17043                       2004       Small               Tier 2   \n",
      "17044                       2009      Medium               Tier 3   \n",
      "17045                       1997       Small               Tier 1   \n",
      "\n",
      "             Outlet_Type  Item_Outlet_Sales  \n",
      "0      Supermarket Type1          3735.1380  \n",
      "1      Supermarket Type2           443.4228  \n",
      "2      Supermarket Type1          2097.2700  \n",
      "3          Grocery Store           732.3800  \n",
      "4      Supermarket Type1           994.7052  \n",
      "...                  ...                ...  \n",
      "17041  Supermarket Type1          2778.3834  \n",
      "17042  Supermarket Type1           549.2850  \n",
      "17043  Supermarket Type1          1193.1136  \n",
      "17044  Supermarket Type2          1845.5976  \n",
      "17045  Supermarket Type1           765.6700  \n",
      "\n",
      "[17046 rows x 12 columns]>\n"
     ]
    }
   ],
   "source": [
    "df = pd.concat([train, test], ignore_index=True)\n",
    "print(df.dtypes)\n",
    "print(df.head)"
   ]
  },
  {
   "cell_type": "code",
   "execution_count": 3,
   "metadata": {},
   "outputs": [
    {
     "data": {
      "text/html": [
       "<div>\n",
       "<style scoped>\n",
       "    .dataframe tbody tr th:only-of-type {\n",
       "        vertical-align: middle;\n",
       "    }\n",
       "\n",
       "    .dataframe tbody tr th {\n",
       "        vertical-align: top;\n",
       "    }\n",
       "\n",
       "    .dataframe thead th {\n",
       "        text-align: right;\n",
       "    }\n",
       "</style>\n",
       "<table border=\"1\" class=\"dataframe\">\n",
       "  <thead>\n",
       "    <tr style=\"text-align: right;\">\n",
       "      <th></th>\n",
       "      <th>Item_Weight</th>\n",
       "      <th>Item_Visibility</th>\n",
       "      <th>Item_MRP</th>\n",
       "      <th>Outlet_Establishment_Year</th>\n",
       "      <th>Item_Outlet_Sales</th>\n",
       "    </tr>\n",
       "  </thead>\n",
       "  <tbody>\n",
       "    <tr>\n",
       "      <th>count</th>\n",
       "      <td>14120.000000</td>\n",
       "      <td>17046.000000</td>\n",
       "      <td>17046.000000</td>\n",
       "      <td>17046.000000</td>\n",
       "      <td>17046.000000</td>\n",
       "    </tr>\n",
       "    <tr>\n",
       "      <th>mean</th>\n",
       "      <td>12.857645</td>\n",
       "      <td>0.066132</td>\n",
       "      <td>140.992782</td>\n",
       "      <td>1997.831867</td>\n",
       "      <td>2181.288914</td>\n",
       "    </tr>\n",
       "    <tr>\n",
       "      <th>std</th>\n",
       "      <td>4.643292</td>\n",
       "      <td>0.051596</td>\n",
       "      <td>62.273240</td>\n",
       "      <td>8.371515</td>\n",
       "      <td>1706.449556</td>\n",
       "    </tr>\n",
       "    <tr>\n",
       "      <th>min</th>\n",
       "      <td>4.555000</td>\n",
       "      <td>0.000000</td>\n",
       "      <td>31.290000</td>\n",
       "      <td>1985.000000</td>\n",
       "      <td>33.290000</td>\n",
       "    </tr>\n",
       "    <tr>\n",
       "      <th>25%</th>\n",
       "      <td>8.773750</td>\n",
       "      <td>0.026988</td>\n",
       "      <td>93.817950</td>\n",
       "      <td>1987.000000</td>\n",
       "      <td>833.914500</td>\n",
       "    </tr>\n",
       "    <tr>\n",
       "      <th>50%</th>\n",
       "      <td>12.600000</td>\n",
       "      <td>0.053931</td>\n",
       "      <td>143.012800</td>\n",
       "      <td>1999.000000</td>\n",
       "      <td>1794.331000</td>\n",
       "    </tr>\n",
       "    <tr>\n",
       "      <th>75%</th>\n",
       "      <td>16.850000</td>\n",
       "      <td>0.094594</td>\n",
       "      <td>185.652250</td>\n",
       "      <td>2004.000000</td>\n",
       "      <td>3101.296400</td>\n",
       "    </tr>\n",
       "    <tr>\n",
       "      <th>max</th>\n",
       "      <td>21.350000</td>\n",
       "      <td>0.328391</td>\n",
       "      <td>266.888400</td>\n",
       "      <td>2009.000000</td>\n",
       "      <td>13086.964800</td>\n",
       "    </tr>\n",
       "  </tbody>\n",
       "</table>\n",
       "</div>"
      ],
      "text/plain": [
       "        Item_Weight  Item_Visibility      Item_MRP  Outlet_Establishment_Year  \\\n",
       "count  14120.000000     17046.000000  17046.000000               17046.000000   \n",
       "mean      12.857645         0.066132    140.992782                1997.831867   \n",
       "std        4.643292         0.051596     62.273240                   8.371515   \n",
       "min        4.555000         0.000000     31.290000                1985.000000   \n",
       "25%        8.773750         0.026988     93.817950                1987.000000   \n",
       "50%       12.600000         0.053931    143.012800                1999.000000   \n",
       "75%       16.850000         0.094594    185.652250                2004.000000   \n",
       "max       21.350000         0.328391    266.888400                2009.000000   \n",
       "\n",
       "       Item_Outlet_Sales  \n",
       "count       17046.000000  \n",
       "mean         2181.288914  \n",
       "std          1706.449556  \n",
       "min            33.290000  \n",
       "25%           833.914500  \n",
       "50%          1794.331000  \n",
       "75%          3101.296400  \n",
       "max         13086.964800  "
      ]
     },
     "execution_count": 3,
     "metadata": {},
     "output_type": "execute_result"
    }
   ],
   "source": [
    "df.describe()"
   ]
  },
  {
   "cell_type": "markdown",
   "metadata": {},
   "source": [
    "From the above table we can that there is quite a disparrity between the minimum sale and the max sale. The standard deviation is also quite large which tells us that the data points are spread out over a wide range of values indicating a possible outlier. Lets plot it out to see if our theory is correct. \n",
    "\n",
    "Another thing I noticed is that the item visibility is 0. This doesn't make much sense as how can a person know to buy the item if they don't know its on sale?"
   ]
  },
  {
   "cell_type": "code",
   "execution_count": 4,
   "metadata": {},
   "outputs": [
    {
     "data": {
      "image/png": "[encoded data removed]",
      "text/plain": [
       "<Figure size 432x288 with 1 Axes>"
      ]
     },
     "metadata": {
      "needs_background": "light"
     },
     "output_type": "display_data"
    }
   ],
   "source": [
    "import seaborn as sns\n",
    "\n",
    "ax = sns.boxplot(x=df[\"Item_Outlet_Sales\"])"
   ]
  },
  {
   "cell_type": "markdown",
   "metadata": {},
   "source": [
    "![box plot](assets/boxplot.png)\n",
    "\n",
    "Boxplots are a standardized way of displaying the distribution of data based on a five number summary (“minimum”, first quartile (Q1), median, third quartile (Q3), and “maximum”).\n",
    "\n",
    "- median (Q2/50th Percentile): the middle value of the dataset.\n",
    "- first quartile (Q1/25th Percentile): the middle number between the smallest number (not the “minimum”) and the median of the dataset.\n",
    "- third quartile (Q3/75th Percentile): the middle value between the median and the highest value (not the “maximum”) of the dataset.\n",
    "- interquartile range (IQR): 25th to the 75th percentile.\n",
    "- whiskers (shown in blue)\n",
    "- outliers (shown as green circles)\n",
    "- “maximum”: Q3 + 1.5*IQR\n",
    "- “minimum”: Q1 -1.5*IQR\n",
    "\n",
    "Now after re-capping on some basic high school lessons about boxplot we can understand that our sales data contains a considerable number of outliers. Also our data seems to be skewed more towards the lower end with the median being around 2000.\n"
   ]
  },
  {
   "cell_type": "code",
   "execution_count": 5,
   "metadata": {},
   "outputs": [
    {
     "name": "stdout",
     "output_type": "stream",
     "text": [
      "Item_Weight                     8.076250\n",
      "Item_Visibility                 0.067606\n",
      "Item_MRP                       91.834300\n",
      "Outlet_Establishment_Year      17.000000\n",
      "Item_Outlet_Sales            2267.381900\n",
      "dtype: float64 Item_Weight                     8.773750\n",
      "Item_Visibility                 0.026988\n",
      "Item_MRP                       93.817950\n",
      "Outlet_Establishment_Year    1987.000000\n",
      "Item_Outlet_Sales             833.914500\n",
      "Name: 0.25, dtype: float64 Item_Weight                    16.850000\n",
      "Item_Visibility                 0.094594\n",
      "Item_MRP                      185.652250\n",
      "Outlet_Establishment_Year    2004.000000\n",
      "Item_Outlet_Sales            3101.296400\n",
      "Name: 0.75, dtype: float64\n",
      "\n",
      "max outliers:\n",
      " Item_Weight                    28.964375\n",
      "Item_Visibility                 0.196004\n",
      "Item_MRP                      323.403700\n",
      "Outlet_Establishment_Year    2029.500000\n",
      "Item_Outlet_Sales            6502.369250\n",
      "dtype: float64\n"
     ]
    }
   ],
   "source": [
    "Q1 = df.quantile(0.25)\n",
    "Q3 = df.quantile(0.75)\n",
    "\n",
    "IQR = Q3 - Q1\n",
    "\n",
    "print(IQR, Q1, Q3)\n",
    "\n",
    "max_outliers = Q3 + 1.5 * IQR\n",
    "print('\\nmax outliers:\\n', max_outliers)"
   ]
  },
  {
   "cell_type": "markdown",
   "metadata": {},
   "source": [
    "We plot the maximum outliers and now we know the specific value of the sales outliers but also the rest of the dataframe. Lets work out if we can find the number of outliers in each column."
   ]
  },
  {
   "cell_type": "code",
   "execution_count": 6,
   "metadata": {},
   "outputs": [],
   "source": [
    "import numpy as np\n",
    "\n",
    "def replaceOutliersWithNaN(values, outlier):\n",
    "    return [value if value < outlier else np.nan for value in values ]\n",
    "    \n",
    "df1 = df.apply(lambda col: replaceOutliersWithNaN(col, max_outliers[col.name]) if col.name in max_outliers.keys() else col, axis=0)\n",
    "beforeNaN = df.isna().sum().sum()\n",
    "afterNaN = df1.isna().sum().sum()\n",
    "outlier_count = afterNaN - beforeNaN\n",
    "df1['Item_Outlet_Sales'].isna().sum()\n",
    "df = df1\n"
   ]
  },
  {
   "cell_type": "markdown",
   "metadata": {},
   "source": [
    "We have replaced outliers in the dataframe with NaN but what should we do with them? We have several options: \n",
    "- Do nothing, some algorithms might throw errors\n",
    "- We drop the outliers but this reduces our dataset and potentially our predictive power.\n",
    "- We replace the NaNs with the mean or median value for that column. If we replace them with the mean then one interesting thing is that the mean value doesn't change!\n",
    "- Replace with most frequent values (works well with string columns) but may introduce bias into the dataset.\n",
    "- Replace with constant values e.g. 0\n",
    "- Use K-NN to find feature similarity (computationally expensive)\n",
    "- Imputation using MICE or deep learning (datawig)\n",
    "\n",
    "For now we will proceed with outliers but it's something we can try changing in the future."
   ]
  },
  {
   "cell_type": "markdown",
   "metadata": {},
   "source": [
    "## Plotting graphs for further analysis\n",
    "\n"
   ]
  },
  {
   "cell_type": "code",
   "execution_count": 7,
   "metadata": {},
   "outputs": [
    {
     "data": {
      "image/png": "[encoded data removed]",
      "text/plain": [
       "<Figure size 432x288 with 1 Axes>"
      ]
     },
     "metadata": {
      "needs_background": "light"
     },
     "output_type": "display_data"
    }
   ],
   "source": [
    "import matplotlib.pyplot as plt\n",
    "\n",
    "plt.scatter(df1.Item_MRP, df1.Item_Outlet_Sales, c=\"purple\")\n",
    "plt.show()\n",
    "\n",
    "# We can see that as the maximum retail price of the product increases so does the amount of revenue for that product in that store."
   ]
  },
  {
   "cell_type": "code",
   "execution_count": 8,
   "metadata": {},
   "outputs": [
    {
     "data": {
      "text/plain": [
       "<seaborn.axisgrid.FacetGrid at 0x122f0b9d0>"
      ]
     },
     "execution_count": 8,
     "metadata": {},
     "output_type": "execute_result"
    },
    {
     "data": {
      "image/png": "[encoded data removed]",
      "text/plain": [
       "<Figure size 1088x864 with 16 Axes>"
      ]
     },
     "metadata": {
      "needs_background": "light"
     },
     "output_type": "display_data"
    }
   ],
   "source": [
    "# Prefer grid graphs for categorical data\n",
    "\n",
    "sns.FacetGrid(df1, col=\"Item_Type\", height=3, col_wrap=5).map(plt.hist, 'Item_Outlet_Sales').add_legend()"
   ]
  },
  {
   "cell_type": "markdown",
   "metadata": {},
   "source": [
    "From the above Facet Grid out of all the different types of items the shops sell, the ones generating the most profit is Snack foods and Fruit and Vegetables. Overall food scores quite well in comparison to drinks."
   ]
  },
  {
   "cell_type": "code",
   "execution_count": 9,
   "metadata": {},
   "outputs": [
    {
     "data": {
      "text/plain": [
       "<seaborn.axisgrid.FacetGrid at 0x12359de50>"
      ]
     },
     "execution_count": 9,
     "metadata": {},
     "output_type": "execute_result"
    },
    {
     "data": {
      "image/png": "[encoded data removed]",
      "text/plain": [
       "<Figure size 656x216 with 3 Axes>"
      ]
     },
     "metadata": {
      "needs_background": "light"
     },
     "output_type": "display_data"
    }
   ],
   "source": [
    "sns.FacetGrid(df, col=\"Outlet_Location_Type\", height=3, col_wrap=3).map(plt.hist, \"Item_Outlet_Sales\").add_legend()"
   ]
  },
  {
   "cell_type": "markdown",
   "metadata": {},
   "source": [
    "This one is a bit harder to compare but looks like there are higher sales from a Tier 3 shop compared to the other tiers. But there is also a larger amount of shops in Tier 3 which are not generating much/if any profit."
   ]
  },
  {
   "cell_type": "code",
   "execution_count": 10,
   "metadata": {},
   "outputs": [
    {
     "data": {
      "text/plain": [
       "<seaborn.axisgrid.FacetGrid at 0x1232b8820>"
      ]
     },
     "execution_count": 10,
     "metadata": {},
     "output_type": "execute_result"
    },
    {
     "data": {
      "image/png": "[encoded data removed]",
      "text/plain": [
       "<Figure size 656x216 with 3 Axes>"
      ]
     },
     "metadata": {
      "needs_background": "light"
     },
     "output_type": "display_data"
    }
   ],
   "source": [
    "sns.FacetGrid(df, col=\"Outlet_Size\", height=3, col_wrap=3).map(plt.hist, \"Item_Outlet_Sales\").add_legend()"
   ]
  },
  {
   "cell_type": "code",
   "execution_count": 11,
   "metadata": {},
   "outputs": [
    {
     "data": {
      "text/plain": [
       "<seaborn.axisgrid.FacetGrid at 0x1238d1be0>"
      ]
     },
     "execution_count": 11,
     "metadata": {},
     "output_type": "execute_result"
    },
    {
     "data": {
      "image/png": "[encoded data removed]",
      "text/plain": [
       "<Figure size 1088x216 with 5 Axes>"
      ]
     },
     "metadata": {
      "needs_background": "light"
     },
     "output_type": "display_data"
    }
   ],
   "source": [
    "sns.FacetGrid(df, col=\"Item_Fat_Content\", height=3, col_wrap=5).map(plt.hist, \"Item_Outlet_Sales\").add_legend()"
   ]
  },
  {
   "cell_type": "markdown",
   "metadata": {},
   "source": [
    "This result is rather interesting because we have discovered an issue with the data set! As you can see \"low fat\", \"Low Fat\" and \"LF\" are all the same thing! Same with \"Regular\" and \"reg\".\n",
    "\n",
    "Overall Low fat products seem to be selling more - people being more health conscious\n"
   ]
  },
  {
   "cell_type": "code",
   "execution_count": 12,
   "metadata": {},
   "outputs": [
    {
     "data": {
      "text/plain": [
       "<seaborn.axisgrid.FacetGrid at 0x1238ca220>"
      ]
     },
     "execution_count": 12,
     "metadata": {},
     "output_type": "execute_result"
    },
    {
     "data": {
      "image/png": "[encoded data removed]",
      "text/plain": [
       "<Figure size 656x216 with 2 Axes>"
      ]
     },
     "metadata": {
      "needs_background": "light"
     },
     "output_type": "display_data"
    }
   ],
   "source": [
    "df[\"Item_Fat_Content\"] = df[\"Item_Fat_Content\"].replace([\"low fat\", \"LF\", \"reg\"], [\"Low Fat\", \"Low Fat\", \"Regular\"])\n",
    "sns.FacetGrid(df, col=\"Item_Fat_Content\", height=3, col_wrap=3).map(plt.hist, \"Item_Outlet_Sales\").add_legend()\n",
    "\n",
    "# Fixing the fat content data issue"
   ]
  },
  {
   "cell_type": "code",
   "execution_count": 13,
   "metadata": {},
   "outputs": [
    {
     "data": {
      "text/plain": [
       "<seaborn.axisgrid.FacetGrid at 0x123a7a130>"
      ]
     },
     "execution_count": 13,
     "metadata": {},
     "output_type": "execute_result"
    },
    {
     "data": {
      "image/png": "[encoded data removed]",
      "text/plain": [
       "<Figure size 1088x216 with 4 Axes>"
      ]
     },
     "metadata": {
      "needs_background": "light"
     },
     "output_type": "display_data"
    }
   ],
   "source": [
    "sns.FacetGrid(df, col=\"Outlet_Type\", height=3, col_wrap=5).map(plt.hist, \"Item_Outlet_Sales\").add_legend()"
   ]
  },
  {
   "cell_type": "code",
   "execution_count": 14,
   "metadata": {},
   "outputs": [
    {
     "data": {
      "text/plain": [
       "<seaborn.axisgrid.FacetGrid at 0x123af97c0>"
      ]
     },
     "execution_count": 14,
     "metadata": {},
     "output_type": "execute_result"
    },
    {
     "data": {
      "image/png": "[encoded data removed]",
      "text/plain": [
       "<Figure size 1088x216 with 4 Axes>"
      ]
     },
     "metadata": {
      "needs_background": "light"
     },
     "output_type": "display_data"
    }
   ],
   "source": [
    "sns.FacetGrid(df1, col=\"Outlet_Type\", height=3, col_wrap=5).map(plt.hist, \"Item_Outlet_Sales\").add_legend()"
   ]
  },
  {
   "cell_type": "markdown",
   "metadata": {},
   "source": [
    "Supermarket sales far outweigh grocery stores, maybe because there is more variety of products to choose from?"
   ]
  },
  {
   "cell_type": "markdown",
   "metadata": {},
   "source": [
    "When looking at item identifiers we can see they all start with FD, DR or NC. Comparing the item identifier to the item type and we can deduce that: \n",
    "- FD = Food\n",
    "- DR = Drink\n",
    "- NC = Non-consumable.\n",
    "\n",
    "We should create an additional feature that encompasses this information."
   ]
  },
  {
   "cell_type": "code",
   "execution_count": 15,
   "metadata": {},
   "outputs": [
    {
     "data": {
      "text/html": [
       "<div>\n",
       "<style scoped>\n",
       "    .dataframe tbody tr th:only-of-type {\n",
       "        vertical-align: middle;\n",
       "    }\n",
       "\n",
       "    .dataframe tbody tr th {\n",
       "        vertical-align: top;\n",
       "    }\n",
       "\n",
       "    .dataframe thead th {\n",
       "        text-align: right;\n",
       "    }\n",
       "</style>\n",
       "<table border=\"1\" class=\"dataframe\">\n",
       "  <thead>\n",
       "    <tr style=\"text-align: right;\">\n",
       "      <th></th>\n",
       "      <th>Item_Identifier</th>\n",
       "      <th>Item_Weight</th>\n",
       "      <th>Item_Fat_Content</th>\n",
       "      <th>Item_Visibility</th>\n",
       "      <th>Item_Type</th>\n",
       "      <th>Item_MRP</th>\n",
       "      <th>Outlet_Identifier</th>\n",
       "      <th>Outlet_Establishment_Year</th>\n",
       "      <th>Outlet_Size</th>\n",
       "      <th>Outlet_Location_Type</th>\n",
       "      <th>Outlet_Type</th>\n",
       "      <th>Item_Outlet_Sales</th>\n",
       "      <th>Item_Type_combined</th>\n",
       "    </tr>\n",
       "  </thead>\n",
       "  <tbody>\n",
       "    <tr>\n",
       "      <th>0</th>\n",
       "      <td>FDA15</td>\n",
       "      <td>9.30</td>\n",
       "      <td>Low Fat</td>\n",
       "      <td>0.016047</td>\n",
       "      <td>Dairy</td>\n",
       "      <td>249.8092</td>\n",
       "      <td>OUT049</td>\n",
       "      <td>1999</td>\n",
       "      <td>Medium</td>\n",
       "      <td>Tier 1</td>\n",
       "      <td>Supermarket Type1</td>\n",
       "      <td>3735.1380</td>\n",
       "      <td>Food</td>\n",
       "    </tr>\n",
       "    <tr>\n",
       "      <th>1</th>\n",
       "      <td>DRC01</td>\n",
       "      <td>5.92</td>\n",
       "      <td>Regular</td>\n",
       "      <td>0.019278</td>\n",
       "      <td>Soft Drinks</td>\n",
       "      <td>48.2692</td>\n",
       "      <td>OUT018</td>\n",
       "      <td>2009</td>\n",
       "      <td>Medium</td>\n",
       "      <td>Tier 3</td>\n",
       "      <td>Supermarket Type2</td>\n",
       "      <td>443.4228</td>\n",
       "      <td>Drinks</td>\n",
       "    </tr>\n",
       "    <tr>\n",
       "      <th>2</th>\n",
       "      <td>FDN15</td>\n",
       "      <td>17.50</td>\n",
       "      <td>Low Fat</td>\n",
       "      <td>0.016760</td>\n",
       "      <td>Meat</td>\n",
       "      <td>141.6180</td>\n",
       "      <td>OUT049</td>\n",
       "      <td>1999</td>\n",
       "      <td>Medium</td>\n",
       "      <td>Tier 1</td>\n",
       "      <td>Supermarket Type1</td>\n",
       "      <td>2097.2700</td>\n",
       "      <td>Food</td>\n",
       "    </tr>\n",
       "    <tr>\n",
       "      <th>3</th>\n",
       "      <td>FDX07</td>\n",
       "      <td>19.20</td>\n",
       "      <td>Regular</td>\n",
       "      <td>0.000000</td>\n",
       "      <td>Fruits and Vegetables</td>\n",
       "      <td>182.0950</td>\n",
       "      <td>OUT010</td>\n",
       "      <td>1998</td>\n",
       "      <td>NaN</td>\n",
       "      <td>Tier 3</td>\n",
       "      <td>Grocery Store</td>\n",
       "      <td>732.3800</td>\n",
       "      <td>Food</td>\n",
       "    </tr>\n",
       "    <tr>\n",
       "      <th>4</th>\n",
       "      <td>NCD19</td>\n",
       "      <td>8.93</td>\n",
       "      <td>Low Fat</td>\n",
       "      <td>0.000000</td>\n",
       "      <td>Household</td>\n",
       "      <td>53.8614</td>\n",
       "      <td>OUT013</td>\n",
       "      <td>1987</td>\n",
       "      <td>High</td>\n",
       "      <td>Tier 3</td>\n",
       "      <td>Supermarket Type1</td>\n",
       "      <td>994.7052</td>\n",
       "      <td>Non_consumable</td>\n",
       "    </tr>\n",
       "  </tbody>\n",
       "</table>\n",
       "</div>"
      ],
      "text/plain": [
       "  Item_Identifier  Item_Weight Item_Fat_Content  Item_Visibility  \\\n",
       "0           FDA15         9.30          Low Fat         0.016047   \n",
       "1           DRC01         5.92          Regular         0.019278   \n",
       "2           FDN15        17.50          Low Fat         0.016760   \n",
       "3           FDX07        19.20          Regular         0.000000   \n",
       "4           NCD19         8.93          Low Fat         0.000000   \n",
       "\n",
       "               Item_Type  Item_MRP Outlet_Identifier  \\\n",
       "0                  Dairy  249.8092            OUT049   \n",
       "1            Soft Drinks   48.2692            OUT018   \n",
       "2                   Meat  141.6180            OUT049   \n",
       "3  Fruits and Vegetables  182.0950            OUT010   \n",
       "4              Household   53.8614            OUT013   \n",
       "\n",
       "   Outlet_Establishment_Year Outlet_Size Outlet_Location_Type  \\\n",
       "0                       1999      Medium               Tier 1   \n",
       "1                       2009      Medium               Tier 3   \n",
       "2                       1999      Medium               Tier 1   \n",
       "3                       1998         NaN               Tier 3   \n",
       "4                       1987        High               Tier 3   \n",
       "\n",
       "         Outlet_Type  Item_Outlet_Sales Item_Type_combined  \n",
       "0  Supermarket Type1          3735.1380               Food  \n",
       "1  Supermarket Type2           443.4228             Drinks  \n",
       "2  Supermarket Type1          2097.2700               Food  \n",
       "3      Grocery Store           732.3800               Food  \n",
       "4  Supermarket Type1           994.7052     Non_consumable  "
      ]
     },
     "execution_count": 15,
     "metadata": {},
     "output_type": "execute_result"
    }
   ],
   "source": [
    "df['Item_Type_combined']=df['Item_Identifier'].apply(lambda x : x[0:2]).copy()\n",
    "df['Item_Type_combined'].replace(to_replace =['FD','DR','NC'], \n",
    "                 value =['Food','Drinks','Non_consumable'],inplace=True)\n",
    "df.head()"
   ]
  },
  {
   "cell_type": "code",
   "execution_count": 16,
   "metadata": {},
   "outputs": [
    {
     "name": "stderr",
     "output_type": "stream",
     "text": [
      "/var/folders/n5/ffqtk_k17s3gt9ypzktqdpbc0000gn/T/ipykernel_68398/3169015877.py:7: SettingWithCopyWarning: \n",
      "A value is trying to be set on a copy of a slice from a DataFrame\n",
      "\n",
      "See the caveats in the documentation: https://pandas.pydata.org/pandas-docs/stable/user_guide/indexing.html#returning-a-view-versus-a-copy\n",
      "  df[\"Item_Fat_Content\"][rows_of_non_consumerable] = \"N/A\"\n"
     ]
    },
    {
     "data": {
      "text/plain": [
       "Low Fat    7836\n",
       "Regular    6012\n",
       "N/A        3198\n",
       "Name: Item_Fat_Content, dtype: int64"
      ]
     },
     "execution_count": 16,
     "metadata": {},
     "output_type": "execute_result"
    }
   ],
   "source": [
    "# This then made me think back to the low fat contents and surely an item labelled as non-consumerable should not have a fat content right?\n",
    "\n",
    "# gets each row as true/false\n",
    "rows_of_non_consumerable = df[\"Item_Type_combined\"] == \"Non_consumable\"\n",
    "\n",
    "# replace the truthy with \"N/A\" rather than \"No Fat\" to avoid confusion in future with zero fat products\n",
    "df[\"Item_Fat_Content\"][rows_of_non_consumerable] = \"N/A\"\n",
    "df[\"Item_Fat_Content\"].value_counts()\n",
    "\n"
   ]
  },
  {
   "cell_type": "code",
   "execution_count": 17,
   "metadata": {},
   "outputs": [
    {
     "name": "stdout",
     "output_type": "stream",
     "text": [
      "\n",
      "Frequency of Categories for varible Item_Identifier\n",
      "FDW13    20\n",
      "FDG33    20\n",
      "NCY18    18\n",
      "FDD38    18\n",
      "DRE49    18\n",
      "         ..\n",
      "FDY43     2\n",
      "FDQ60     2\n",
      "FDO33     2\n",
      "DRF48     2\n",
      "FDC23     2\n",
      "Name: Item_Identifier, Length: 1559, dtype: int64\n",
      "\n",
      "Frequency of Categories for varible Item_Fat_Content\n",
      "Low Fat    7836\n",
      "Regular    6012\n",
      "N/A        3198\n",
      "Name: Item_Fat_Content, dtype: int64\n",
      "\n",
      "Frequency of Categories for varible Item_Type\n",
      "Fruits and Vegetables    2464\n",
      "Snack Foods              2400\n",
      "Household                1820\n",
      "Frozen Foods             1712\n",
      "Dairy                    1364\n",
      "Canned                   1298\n",
      "Baking Goods             1296\n",
      "Health and Hygiene       1040\n",
      "Soft Drinks               890\n",
      "Meat                      850\n",
      "Breads                    502\n",
      "Hard Drinks               428\n",
      "Others                    338\n",
      "Starchy Foods             296\n",
      "Breakfast                 220\n",
      "Seafood                   128\n",
      "Name: Item_Type, dtype: int64\n",
      "\n",
      "Frequency of Categories for varible Outlet_Identifier\n",
      "OUT027    1870\n",
      "OUT013    1864\n",
      "OUT049    1860\n",
      "OUT046    1860\n",
      "OUT035    1860\n",
      "OUT045    1858\n",
      "OUT018    1856\n",
      "OUT017    1852\n",
      "OUT010    1110\n",
      "OUT019    1056\n",
      "Name: Outlet_Identifier, dtype: int64\n",
      "\n",
      "Frequency of Categories for varible Outlet_Size\n",
      "Medium    5586\n",
      "Small     4776\n",
      "High      1864\n",
      "Name: Outlet_Size, dtype: int64\n",
      "\n",
      "Frequency of Categories for varible Outlet_Location_Type\n",
      "Tier 3    6700\n",
      "Tier 2    5570\n",
      "Tier 1    4776\n",
      "Name: Outlet_Location_Type, dtype: int64\n",
      "\n",
      "Frequency of Categories for varible Outlet_Type\n",
      "Supermarket Type1    11154\n",
      "Grocery Store         2166\n",
      "Supermarket Type3     1870\n",
      "Supermarket Type2     1856\n",
      "Name: Outlet_Type, dtype: int64\n",
      "\n",
      "Frequency of Categories for varible Item_Type_combined\n",
      "Food              12250\n",
      "Non_consumable     3198\n",
      "Drinks             1598\n",
      "Name: Item_Type_combined, dtype: int64\n"
     ]
    },
    {
     "data": {
      "text/html": [
       "<div>\n",
       "<style scoped>\n",
       "    .dataframe tbody tr th:only-of-type {\n",
       "        vertical-align: middle;\n",
       "    }\n",
       "\n",
       "    .dataframe tbody tr th {\n",
       "        vertical-align: top;\n",
       "    }\n",
       "\n",
       "    .dataframe thead th {\n",
       "        text-align: right;\n",
       "    }\n",
       "</style>\n",
       "<table border=\"1\" class=\"dataframe\">\n",
       "  <thead>\n",
       "    <tr style=\"text-align: right;\">\n",
       "      <th></th>\n",
       "      <th>Item_Identifier</th>\n",
       "      <th>Item_Weight</th>\n",
       "      <th>Item_Fat_Content</th>\n",
       "      <th>Item_Visibility</th>\n",
       "      <th>Item_Type</th>\n",
       "      <th>Item_MRP</th>\n",
       "      <th>Outlet_Identifier</th>\n",
       "      <th>Outlet_Establishment_Year</th>\n",
       "      <th>Outlet_Size</th>\n",
       "      <th>Outlet_Location_Type</th>\n",
       "      <th>Outlet_Type</th>\n",
       "      <th>Item_Outlet_Sales</th>\n",
       "      <th>Item_Type_combined</th>\n",
       "    </tr>\n",
       "  </thead>\n",
       "  <tbody>\n",
       "    <tr>\n",
       "      <th>0</th>\n",
       "      <td>156</td>\n",
       "      <td>9.30</td>\n",
       "      <td>0</td>\n",
       "      <td>0.016047</td>\n",
       "      <td>4</td>\n",
       "      <td>249.8092</td>\n",
       "      <td>9</td>\n",
       "      <td>1999</td>\n",
       "      <td>1</td>\n",
       "      <td>0</td>\n",
       "      <td>1</td>\n",
       "      <td>3735.1380</td>\n",
       "      <td>1</td>\n",
       "    </tr>\n",
       "    <tr>\n",
       "      <th>1</th>\n",
       "      <td>8</td>\n",
       "      <td>5.92</td>\n",
       "      <td>2</td>\n",
       "      <td>0.019278</td>\n",
       "      <td>14</td>\n",
       "      <td>48.2692</td>\n",
       "      <td>3</td>\n",
       "      <td>2009</td>\n",
       "      <td>1</td>\n",
       "      <td>2</td>\n",
       "      <td>2</td>\n",
       "      <td>443.4228</td>\n",
       "      <td>0</td>\n",
       "    </tr>\n",
       "    <tr>\n",
       "      <th>2</th>\n",
       "      <td>662</td>\n",
       "      <td>17.50</td>\n",
       "      <td>0</td>\n",
       "      <td>0.016760</td>\n",
       "      <td>10</td>\n",
       "      <td>141.6180</td>\n",
       "      <td>9</td>\n",
       "      <td>1999</td>\n",
       "      <td>1</td>\n",
       "      <td>0</td>\n",
       "      <td>1</td>\n",
       "      <td>2097.2700</td>\n",
       "      <td>1</td>\n",
       "    </tr>\n",
       "    <tr>\n",
       "      <th>3</th>\n",
       "      <td>1121</td>\n",
       "      <td>19.20</td>\n",
       "      <td>2</td>\n",
       "      <td>0.000000</td>\n",
       "      <td>6</td>\n",
       "      <td>182.0950</td>\n",
       "      <td>0</td>\n",
       "      <td>1998</td>\n",
       "      <td>3</td>\n",
       "      <td>2</td>\n",
       "      <td>0</td>\n",
       "      <td>732.3800</td>\n",
       "      <td>1</td>\n",
       "    </tr>\n",
       "    <tr>\n",
       "      <th>4</th>\n",
       "      <td>1297</td>\n",
       "      <td>8.93</td>\n",
       "      <td>1</td>\n",
       "      <td>0.000000</td>\n",
       "      <td>9</td>\n",
       "      <td>53.8614</td>\n",
       "      <td>1</td>\n",
       "      <td>1987</td>\n",
       "      <td>0</td>\n",
       "      <td>2</td>\n",
       "      <td>1</td>\n",
       "      <td>994.7052</td>\n",
       "      <td>2</td>\n",
       "    </tr>\n",
       "  </tbody>\n",
       "</table>\n",
       "</div>"
      ],
      "text/plain": [
       "   Item_Identifier  Item_Weight  Item_Fat_Content  Item_Visibility  Item_Type  \\\n",
       "0              156         9.30                 0         0.016047          4   \n",
       "1                8         5.92                 2         0.019278         14   \n",
       "2              662        17.50                 0         0.016760         10   \n",
       "3             1121        19.20                 2         0.000000          6   \n",
       "4             1297         8.93                 1         0.000000          9   \n",
       "\n",
       "   Item_MRP  Outlet_Identifier  Outlet_Establishment_Year  Outlet_Size  \\\n",
       "0  249.8092                  9                       1999            1   \n",
       "1   48.2692                  3                       2009            1   \n",
       "2  141.6180                  9                       1999            1   \n",
       "3  182.0950                  0                       1998            3   \n",
       "4   53.8614                  1                       1987            0   \n",
       "\n",
       "   Outlet_Location_Type  Outlet_Type  Item_Outlet_Sales  Item_Type_combined  \n",
       "0                     0            1          3735.1380                   1  \n",
       "1                     2            2           443.4228                   0  \n",
       "2                     0            1          2097.2700                   1  \n",
       "3                     2            0           732.3800                   1  \n",
       "4                     2            1           994.7052                   2  "
      ]
     },
     "execution_count": 17,
     "metadata": {},
     "output_type": "execute_result"
    }
   ],
   "source": [
    "# Our model can't understand the categorial data e.g. Canned, Dairy, Seafood. Instead we need to map them into numerical values\n",
    "# Canned => 0, Dairy => 1,...\n",
    "\n",
    "#Filter categorical variables\n",
    "categorical_columns = [x for x in df.dtypes.index if df.dtypes[x]=='object']\n",
    "#Exclude ID cols and source:\n",
    "# categorical_columns = [x for x in categorical_columns if x not in ['Item_Identifier','Outlet_Identifier']]\n",
    "#Print frequency of categories\n",
    "for col in categorical_columns:\n",
    "    print ('\\nFrequency of Categories for varible %s'%col)\n",
    "    print (df[col].value_counts())\n",
    "\n",
    "from sklearn.preprocessing import LabelEncoder\n",
    "\n",
    "label_encoder = LabelEncoder()\n",
    "df = df.apply(lambda col: label_encoder.fit_transform(col) if col.name in categorical_columns else col )\n",
    "df.head()"
   ]
  },
  {
   "cell_type": "code",
   "execution_count": 18,
   "metadata": {},
   "outputs": [
    {
     "name": "stderr",
     "output_type": "stream",
     "text": [
      "/Users/joshdando/Documents/projects/sales-prediction/venv/lib/python3.9/site-packages/pandas/util/_decorators.py:311: SettingWithCopyWarning: \n",
      "A value is trying to be set on a copy of a slice from a DataFrame\n",
      "\n",
      "See the caveats in the documentation: https://pandas.pydata.org/pandas-docs/stable/user_guide/indexing.html#returning-a-view-versus-a-copy\n",
      "  return func(*args, **kwargs)\n"
     ]
    }
   ],
   "source": [
    "#Using feature Engineering and adding new column\n",
    "df['yearsold']=2013-df['Outlet_Establishment_Year']\n",
    "df=df.drop(columns=['Outlet_Establishment_Year'])\n",
    "df.head()\n",
    "\n",
    "#Separating test and train set\n",
    "# 8523 was number in train set. If we removed NaNs then we would have to split this differently.\n",
    "df_train=df.iloc[:8523,:]\n",
    "df_test=df.iloc[8523:,:]\n",
    "\n",
    "# going to remove nan values here as when building models it was complaining\n",
    "df_train.dropna(inplace=True)\n",
    "df_test.dropna(inplace=True)\n",
    "\n",
    "Y_train = df_train[\"Item_Outlet_Sales\"]\n",
    "X_train = df_train.drop(columns=['Item_Outlet_Sales'])\n",
    "Y_test = df_test[\"Item_Outlet_Sales\"]\n",
    "X_test=df_test.drop(columns=['Item_Outlet_Sales'])\n"
   ]
  },
  {
   "cell_type": "markdown",
   "metadata": {},
   "source": [
    "## Feature Scaling\n",
    "\n",
    "The idea of feature scaling is to make the features a similar scale so that gradient descent converges quicker. (Wk 2 Andrew Ng machine learning). Any algorithm that uses euclidean distance will benefit from feature scaling. \n",
    "\n",
    "We can acomplish this with mean normalization: we replace all features (x(i) - u(i))/std dev or (max-min) (where u = mean) to make all features have approximately zero mean. \n",
    "\n",
    "Note: Depending on the model you are using you would typically set x(0) = 1."
   ]
  },
  {
   "cell_type": "code",
   "execution_count": 19,
   "metadata": {},
   "outputs": [
    {
     "data": {
      "text/html": [
       "<div>\n",
       "<style scoped>\n",
       "    .dataframe tbody tr th:only-of-type {\n",
       "        vertical-align: middle;\n",
       "    }\n",
       "\n",
       "    .dataframe tbody tr th {\n",
       "        vertical-align: top;\n",
       "    }\n",
       "\n",
       "    .dataframe thead th {\n",
       "        text-align: right;\n",
       "    }\n",
       "</style>\n",
       "<table border=\"1\" class=\"dataframe\">\n",
       "  <thead>\n",
       "    <tr style=\"text-align: right;\">\n",
       "      <th></th>\n",
       "      <th>Item_Identifier</th>\n",
       "      <th>Item_Weight</th>\n",
       "      <th>Item_Fat_Content</th>\n",
       "      <th>Item_Visibility</th>\n",
       "      <th>Item_Type</th>\n",
       "      <th>Item_MRP</th>\n",
       "      <th>Outlet_Identifier</th>\n",
       "      <th>Outlet_Size</th>\n",
       "      <th>Outlet_Location_Type</th>\n",
       "      <th>Outlet_Type</th>\n",
       "      <th>Item_Type_combined</th>\n",
       "      <th>yearsold</th>\n",
       "    </tr>\n",
       "  </thead>\n",
       "  <tbody>\n",
       "    <tr>\n",
       "      <th>0</th>\n",
       "      <td>156</td>\n",
       "      <td>9.30</td>\n",
       "      <td>0</td>\n",
       "      <td>0.016047</td>\n",
       "      <td>4</td>\n",
       "      <td>249.8092</td>\n",
       "      <td>9</td>\n",
       "      <td>1</td>\n",
       "      <td>0</td>\n",
       "      <td>1</td>\n",
       "      <td>1</td>\n",
       "      <td>14</td>\n",
       "    </tr>\n",
       "    <tr>\n",
       "      <th>1</th>\n",
       "      <td>8</td>\n",
       "      <td>5.92</td>\n",
       "      <td>2</td>\n",
       "      <td>0.019278</td>\n",
       "      <td>14</td>\n",
       "      <td>48.2692</td>\n",
       "      <td>3</td>\n",
       "      <td>1</td>\n",
       "      <td>2</td>\n",
       "      <td>2</td>\n",
       "      <td>0</td>\n",
       "      <td>4</td>\n",
       "    </tr>\n",
       "    <tr>\n",
       "      <th>2</th>\n",
       "      <td>662</td>\n",
       "      <td>17.50</td>\n",
       "      <td>0</td>\n",
       "      <td>0.016760</td>\n",
       "      <td>10</td>\n",
       "      <td>141.6180</td>\n",
       "      <td>9</td>\n",
       "      <td>1</td>\n",
       "      <td>0</td>\n",
       "      <td>1</td>\n",
       "      <td>1</td>\n",
       "      <td>14</td>\n",
       "    </tr>\n",
       "    <tr>\n",
       "      <th>3</th>\n",
       "      <td>1121</td>\n",
       "      <td>19.20</td>\n",
       "      <td>2</td>\n",
       "      <td>0.000000</td>\n",
       "      <td>6</td>\n",
       "      <td>182.0950</td>\n",
       "      <td>0</td>\n",
       "      <td>3</td>\n",
       "      <td>2</td>\n",
       "      <td>0</td>\n",
       "      <td>1</td>\n",
       "      <td>15</td>\n",
       "    </tr>\n",
       "    <tr>\n",
       "      <th>4</th>\n",
       "      <td>1297</td>\n",
       "      <td>8.93</td>\n",
       "      <td>1</td>\n",
       "      <td>0.000000</td>\n",
       "      <td>9</td>\n",
       "      <td>53.8614</td>\n",
       "      <td>1</td>\n",
       "      <td>0</td>\n",
       "      <td>2</td>\n",
       "      <td>1</td>\n",
       "      <td>2</td>\n",
       "      <td>26</td>\n",
       "    </tr>\n",
       "  </tbody>\n",
       "</table>\n",
       "</div>"
      ],
      "text/plain": [
       "   Item_Identifier  Item_Weight  Item_Fat_Content  Item_Visibility  Item_Type  \\\n",
       "0              156         9.30                 0         0.016047          4   \n",
       "1                8         5.92                 2         0.019278         14   \n",
       "2              662        17.50                 0         0.016760         10   \n",
       "3             1121        19.20                 2         0.000000          6   \n",
       "4             1297         8.93                 1         0.000000          9   \n",
       "\n",
       "   Item_MRP  Outlet_Identifier  Outlet_Size  Outlet_Location_Type  \\\n",
       "0  249.8092                  9            1                     0   \n",
       "1   48.2692                  3            1                     2   \n",
       "2  141.6180                  9            1                     0   \n",
       "3  182.0950                  0            3                     2   \n",
       "4   53.8614                  1            0                     2   \n",
       "\n",
       "   Outlet_Type  Item_Type_combined  yearsold  \n",
       "0            1                   1        14  \n",
       "1            2                   0         4  \n",
       "2            1                   1        14  \n",
       "3            0                   1        15  \n",
       "4            1                   2        26  "
      ]
     },
     "execution_count": 19,
     "metadata": {},
     "output_type": "execute_result"
    }
   ],
   "source": [
    "from sklearn.preprocessing import StandardScaler\n",
    "\n",
    "scaler = StandardScaler()\n",
    "\n",
    "scaler.fit(X_train)\n",
    "scaler.fit(X_test)\n",
    "\n",
    "X_train.head()"
   ]
  },
  {
   "cell_type": "markdown",
   "metadata": {},
   "source": [
    "## Building Models\n",
    "\n",
    "We should start with a baseline model and see if this problem can be done with the simplest model: linear regression. If not then we can move onto more complicated models that will capture non-linear trends.\n",
    "\n",
    "Above we have split our training data back into a training set and a test set. We can't train the model alone on the training set because although it might perform really well on the train data it might perform badly on the test data this is known as overfitting/high variance. \n",
    "\n",
    "So can we train against the training set then pick the one that chooses the lowest test error? Nope this is because you are fitting the degree of the polynomial (d) that best suits the test set leading to an optimistic estimate. Remember that linear regression is h(x) = \\theta_0 + \\theta_1 * X where \\theta is your parameters (think y = mx + c). Logistic regression expands this idea with h(x) = \\theta_0 + \\theta_1 * x_1 + \\theta_2 * x_2 ... + \\theta_n * x_n (where \\theta = parameters, x = features).\n",
    "\n",
    "Instead we should introduce a cross validation set. We pick the model resulting in the least error on the cross-val.\n"
   ]
  },
  {
   "cell_type": "code",
   "execution_count": 20,
   "metadata": {},
   "outputs": [
    {
     "name": "stdout",
     "output_type": "stream",
     "text": [
      "linear regression -1103512.7269675606\n"
     ]
    }
   ],
   "source": [
    "from sklearn.linear_model import LinearRegression\n",
    "from sklearn.model_selection import cross_val_score\n",
    "\n",
    "def basic_model_selection(x,y,cross_folds,models, scorer):\n",
    "    scores=[]\n",
    "    names = []\n",
    "    for name , model in models:\n",
    "        # https://scikit-learn.org/stable/modules/model_evaluation.html#scoring-parameter\n",
    "        # scoring works where higher scores is better than low\n",
    "        cv_scores = cross_val_score(model, x, y, cv=cross_folds, n_jobs=5, scoring=scorer)\n",
    "        scores.append(cv_scores)\n",
    "        names.append(name)\n",
    "    for k in range(len(scores)):\n",
    "        print(names[k],scores[k].mean())\n",
    "\n",
    "\n",
    "models = [(\"linear regression\", LinearRegression())]\n",
    "\n",
    "basic_model_selection(X_train, Y_train, 10, models, scorer=\"neg_mean_squared_error\")"
   ]
  },
  {
   "cell_type": "markdown",
   "metadata": {},
   "source": [
    "## Error analysis\n",
    "\n",
    "We plot a learning curve of the training set and the cross-validation set to see how the learning went. From this we can observe whether the model is high bias/variance and decide on how to act."
   ]
  },
  {
   "cell_type": "code",
   "execution_count": 24,
   "metadata": {},
   "outputs": [
    {
     "data": {
      "text/plain": [
       "<module 'matplotlib.pyplot' from '/Users/joshdando/Documents/projects/sales-prediction/venv/lib/python3.9/site-packages/matplotlib/pyplot.py'>"
      ]
     },
     "execution_count": 24,
     "metadata": {},
     "output_type": "execute_result"
    },
    {
     "data": {
      "image/png": "[encoded data removed]",
      "text/plain": [
       "<Figure size 1440x360 with 3 Axes>"
      ]
     },
     "metadata": {
      "needs_background": "light"
     },
     "output_type": "display_data"
    }
   ],
   "source": [
    "import plot_learning_curve\n",
    "\n",
    "estimator = LinearRegression()\n",
    "plot_learning_curve.plot_learning_curve(estimator, \"Train vs Cross val\", X_train, Y_train, cv=10, n_jobs=5, scorer=\"r2\" )\n",
    "\n",
    "# Perfect R2 score would be 1."
   ]
  },
  {
   "cell_type": "markdown",
   "metadata": {},
   "source": [
    "From this graph we can deduce that linear regression is simply not powerful enough to grasp the underlying pattern of this data because the performance of the model is not increasing by very much. It is unlikely that adding any more data will make this model any better.\n",
    "\n",
    "We should instead look to see if a different model will provide a higher score than this baseline."
   ]
  },
  {
   "cell_type": "code",
   "execution_count": 25,
   "metadata": {},
   "outputs": [
    {
     "data": {
      "text/plain": [
       "<module 'matplotlib.pyplot' from '/Users/joshdando/Documents/projects/sales-prediction/venv/lib/python3.9/site-packages/matplotlib/pyplot.py'>"
      ]
     },
     "execution_count": 25,
     "metadata": {},
     "output_type": "execute_result"
    },
    {
     "data": {
      "image/png": "[encoded data removed]",
      "text/plain": [
       "<Figure size 1440x360 with 3 Axes>"
      ]
     },
     "metadata": {
      "needs_background": "light"
     },
     "output_type": "display_data"
    }
   ],
   "source": [
    "from sklearn.linear_model import ElasticNet\n",
    "from sklearn.ensemble import RandomForestRegressor\n",
    "\n",
    "estimator = RandomForestRegressor()\n",
    "plot_learning_curve.plot_learning_curve(estimator, \"Learning curve for Logistic Regression\", X_train, Y_train, cv=5, n_jobs=5, scorer=\"r2\" )"
   ]
  },
  {
   "cell_type": "markdown",
   "metadata": {},
   "source": [
    "Seems like there is a problem with our data causing the models to not learn because the training score is incredibly high but the cross validation score is mightly low!"
   ]
  }
 ],
 "metadata": {
  "interpreter": {
   "hash": "31f2aee4e71d21fbe5cf8b01ff0e069b9275f58929596ceb00d14d90e3e16cd6"
  },
  "kernelspec": {
   "display_name": "Python 3.8.9 64-bit",
   "language": "python",
   "name": "python3"
  },
  "language_info": {
   "codemirror_mode": {
    "name": "ipython",
    "version": 3
   },
   "file_extension": ".py",
   "mimetype": "text/x-python",
   "name": "python",
   "nbconvert_exporter": "python",
   "pygments_lexer": "ipython3",
   "version": "3.9.9"
  },
  "orig_nbformat": 4
 },
 "nbformat": 4,
 "nbformat_minor": 2
}
