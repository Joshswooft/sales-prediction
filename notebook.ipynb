{
 "cells": [
  {
   "cell_type": "markdown",
   "metadata": {},
   "source": [
    "# Sales Prediction for BigMart\n",
    "\n",
    "## Problem Description\n",
    "\n",
    "The data scientists at BigMart have collected 2013 sales data for 1559 products across 10 stores in different cities. Also, certain attributes of each product and store have been defined. The aim of this data science project is to build a predictive model and find out the sales of each product at a particular store.\n",
    "\n",
    "Using this model, BigMart will try to understand the properties of products and stores which play a key role in increasing sales.\n",
    "\n",
    "The data has missing values as some stores do not report all the data due to technical glitches. Hence, it will be required to treat them accordingly.\n",
    "\n",
    "This project is a regression problem i.e. we are predicting a continous value and will be solved via supervised learning because we already have past sales data."
   ]
  },
  {
   "cell_type": "markdown",
   "metadata": {},
   "source": [
    "## Exploring the dataset\n",
    "\n",
    "| Variable                  | Description                                                                      |\n",
    "|---------------------------|----------------------------------------------------------------------------------|\n",
    "| Item_Identifier           | Unique Product ID                                                                |\n",
    "| Item_Weight               | Weight of product                                                                |\n",
    "| Item_Fat_Content          | Low in fat or not (Low Fat, Regular)                                             |\n",
    "| Item_Visibility           | % of total display area allocated to the product                                 |\n",
    "| Item_Type                 | Category for the product                                                         |\n",
    "| Item_MRP                  | Maximum Retail price of the product                                              |\n",
    "| Outlet_Identifier         | Unique Store ID                                                                  |\n",
    "| Outlet_Establishment_Year | Year store was made                                                              |\n",
    "| Outlet_Size               | Size of store (small, medium, high)                                              |\n",
    "| Outlet_Location_Type      | Type of city (tier 1, tier 2, tier 3)                                            |\n",
    "| Outlet_Type               | Supermarket or grocery                                                           |\n",
    "| Item_Outlet_Sales         | Sale of product in the particular store. (Also what we are trying to predict!!!) |"
   ]
  },
  {
   "cell_type": "markdown",
   "metadata": {},
   "source": [
    "## Getting Started\n",
    "\n",
    "We use a virtual environment to do all our development in, this ensures that we don't import modules that accidentally conflict with other project work. \n",
    "\n",
    "1. `python3 -m venv venv` - this will create your virtual environment inside a `venv` folder\n",
    "2. `source venv/bin/activate` - this will activate your virtual env\n",
    "3. `python3 -m pip install -r requirements.txt`\n",
    "4. If working on VSC you can press `cmd + shift + p` to bring up the command palette then type in `kernel` and select the `Notebook: select kernel` option then choose the virtual environment.\n",
    "\n",
    "## Adding new modules\n",
    "\n",
    "New modules should be added to the virtual env with the following command: `pip install <module-name>`\n",
    "After the module has been added you should update the `requirements.txt` file using: `pip freeze > requirements.txt`"
   ]
  },
  {
   "cell_type": "markdown",
   "metadata": {},
   "source": [
    "## Data analysis"
   ]
  },
  {
   "cell_type": "code",
   "execution_count": 1,
   "metadata": {},
   "outputs": [
    {
     "name": "stdout",
     "output_type": "stream",
     "text": [
      "(8523, 12) (8523, 12)\n"
     ]
    }
   ],
   "source": [
    "import pandas as pd\n",
    "\n",
    "train = pd.read_csv('data/train_kOBLwZA.csv')\n",
    "test = pd.read_csv('data/train_kOBLwZA.csv')\n",
    "\n",
    "print(train.shape, test.shape)"
   ]
  },
  {
   "cell_type": "code",
   "execution_count": 23,
   "metadata": {},
   "outputs": [
    {
     "name": "stdout",
     "output_type": "stream",
     "text": [
      "Item_Identifier               object\n",
      "Item_Weight                  float64\n",
      "Item_Fat_Content              object\n",
      "Item_Visibility              float64\n",
      "Item_Type                     object\n",
      "Item_MRP                     float64\n",
      "Outlet_Identifier             object\n",
      "Outlet_Establishment_Year      int64\n",
      "Outlet_Size                   object\n",
      "Outlet_Location_Type          object\n",
      "Outlet_Type                   object\n",
      "Item_Outlet_Sales            float64\n",
      "dtype: object\n",
      "<bound method NDFrame.head of       Item_Identifier  Item_Weight Item_Fat_Content  Item_Visibility  \\\n",
      "0               FDA15        9.300          Low Fat         0.016047   \n",
      "1               DRC01        5.920          Regular         0.019278   \n",
      "2               FDN15       17.500          Low Fat         0.016760   \n",
      "3               FDX07       19.200          Regular         0.000000   \n",
      "4               NCD19        8.930          Low Fat         0.000000   \n",
      "...               ...          ...              ...              ...   \n",
      "17041           FDF22        6.865          Low Fat         0.056783   \n",
      "17042           FDS36        8.380          Regular         0.046982   \n",
      "17043           NCJ29       10.600          Low Fat         0.035186   \n",
      "17044           FDN46        7.210          Regular         0.145221   \n",
      "17045           DRG01       14.800          Low Fat         0.044878   \n",
      "\n",
      "                   Item_Type  Item_MRP Outlet_Identifier  \\\n",
      "0                      Dairy  249.8092            OUT049   \n",
      "1                Soft Drinks   48.2692            OUT018   \n",
      "2                       Meat  141.6180            OUT049   \n",
      "3      Fruits and Vegetables  182.0950            OUT010   \n",
      "4                  Household   53.8614            OUT013   \n",
      "...                      ...       ...               ...   \n",
      "17041            Snack Foods  214.5218            OUT013   \n",
      "17042           Baking Goods  108.1570            OUT045   \n",
      "17043     Health and Hygiene   85.1224            OUT035   \n",
      "17044            Snack Foods  103.1332            OUT018   \n",
      "17045            Soft Drinks   75.4670            OUT046   \n",
      "\n",
      "       Outlet_Establishment_Year Outlet_Size Outlet_Location_Type  \\\n",
      "0                           1999      Medium               Tier 1   \n",
      "1                           2009      Medium               Tier 3   \n",
      "2                           1999      Medium               Tier 1   \n",
      "3                           1998         NaN               Tier 3   \n",
      "4                           1987        High               Tier 3   \n",
      "...                          ...         ...                  ...   \n",
      "17041                       1987        High               Tier 3   \n",
      "17042                       2002         NaN               Tier 2   \n",
      "17043                       2004       Small               Tier 2   \n",
      "17044                       2009      Medium               Tier 3   \n",
      "17045                       1997       Small               Tier 1   \n",
      "\n",
      "             Outlet_Type  Item_Outlet_Sales  \n",
      "0      Supermarket Type1          3735.1380  \n",
      "1      Supermarket Type2           443.4228  \n",
      "2      Supermarket Type1          2097.2700  \n",
      "3          Grocery Store           732.3800  \n",
      "4      Supermarket Type1           994.7052  \n",
      "...                  ...                ...  \n",
      "17041  Supermarket Type1          2778.3834  \n",
      "17042  Supermarket Type1           549.2850  \n",
      "17043  Supermarket Type1          1193.1136  \n",
      "17044  Supermarket Type2          1845.5976  \n",
      "17045  Supermarket Type1           765.6700  \n",
      "\n",
      "[17046 rows x 12 columns]>\n"
     ]
    }
   ],
   "source": [
    "df = pd.concat([train, test], ignore_index=True)\n",
    "print(df.dtypes)\n",
    "print(df.head)"
   ]
  },
  {
   "cell_type": "code",
   "execution_count": 6,
   "metadata": {},
   "outputs": [
    {
     "data": {
      "text/html": [
       "<div>\n",
       "<style scoped>\n",
       "    .dataframe tbody tr th:only-of-type {\n",
       "        vertical-align: middle;\n",
       "    }\n",
       "\n",
       "    .dataframe tbody tr th {\n",
       "        vertical-align: top;\n",
       "    }\n",
       "\n",
       "    .dataframe thead th {\n",
       "        text-align: right;\n",
       "    }\n",
       "</style>\n",
       "<table border=\"1\" class=\"dataframe\">\n",
       "  <thead>\n",
       "    <tr style=\"text-align: right;\">\n",
       "      <th></th>\n",
       "      <th>Item_Weight</th>\n",
       "      <th>Item_Visibility</th>\n",
       "      <th>Item_MRP</th>\n",
       "      <th>Outlet_Establishment_Year</th>\n",
       "      <th>Item_Outlet_Sales</th>\n",
       "    </tr>\n",
       "  </thead>\n",
       "  <tbody>\n",
       "    <tr>\n",
       "      <th>count</th>\n",
       "      <td>14120.000000</td>\n",
       "      <td>17046.000000</td>\n",
       "      <td>17046.000000</td>\n",
       "      <td>17046.000000</td>\n",
       "      <td>17046.000000</td>\n",
       "    </tr>\n",
       "    <tr>\n",
       "      <th>mean</th>\n",
       "      <td>12.857645</td>\n",
       "      <td>0.066132</td>\n",
       "      <td>140.992782</td>\n",
       "      <td>1997.831867</td>\n",
       "      <td>2181.288914</td>\n",
       "    </tr>\n",
       "    <tr>\n",
       "      <th>std</th>\n",
       "      <td>4.643292</td>\n",
       "      <td>0.051596</td>\n",
       "      <td>62.273240</td>\n",
       "      <td>8.371515</td>\n",
       "      <td>1706.449556</td>\n",
       "    </tr>\n",
       "    <tr>\n",
       "      <th>min</th>\n",
       "      <td>4.555000</td>\n",
       "      <td>0.000000</td>\n",
       "      <td>31.290000</td>\n",
       "      <td>1985.000000</td>\n",
       "      <td>33.290000</td>\n",
       "    </tr>\n",
       "    <tr>\n",
       "      <th>25%</th>\n",
       "      <td>8.773750</td>\n",
       "      <td>0.026988</td>\n",
       "      <td>93.817950</td>\n",
       "      <td>1987.000000</td>\n",
       "      <td>833.914500</td>\n",
       "    </tr>\n",
       "    <tr>\n",
       "      <th>50%</th>\n",
       "      <td>12.600000</td>\n",
       "      <td>0.053931</td>\n",
       "      <td>143.012800</td>\n",
       "      <td>1999.000000</td>\n",
       "      <td>1794.331000</td>\n",
       "    </tr>\n",
       "    <tr>\n",
       "      <th>75%</th>\n",
       "      <td>16.850000</td>\n",
       "      <td>0.094594</td>\n",
       "      <td>185.652250</td>\n",
       "      <td>2004.000000</td>\n",
       "      <td>3101.296400</td>\n",
       "    </tr>\n",
       "    <tr>\n",
       "      <th>max</th>\n",
       "      <td>21.350000</td>\n",
       "      <td>0.328391</td>\n",
       "      <td>266.888400</td>\n",
       "      <td>2009.000000</td>\n",
       "      <td>13086.964800</td>\n",
       "    </tr>\n",
       "  </tbody>\n",
       "</table>\n",
       "</div>"
      ],
      "text/plain": [
       "        Item_Weight  Item_Visibility      Item_MRP  Outlet_Establishment_Year  \\\n",
       "count  14120.000000     17046.000000  17046.000000               17046.000000   \n",
       "mean      12.857645         0.066132    140.992782                1997.831867   \n",
       "std        4.643292         0.051596     62.273240                   8.371515   \n",
       "min        4.555000         0.000000     31.290000                1985.000000   \n",
       "25%        8.773750         0.026988     93.817950                1987.000000   \n",
       "50%       12.600000         0.053931    143.012800                1999.000000   \n",
       "75%       16.850000         0.094594    185.652250                2004.000000   \n",
       "max       21.350000         0.328391    266.888400                2009.000000   \n",
       "\n",
       "       Item_Outlet_Sales  \n",
       "count       17046.000000  \n",
       "mean         2181.288914  \n",
       "std          1706.449556  \n",
       "min            33.290000  \n",
       "25%           833.914500  \n",
       "50%          1794.331000  \n",
       "75%          3101.296400  \n",
       "max         13086.964800  "
      ]
     },
     "execution_count": 6,
     "metadata": {},
     "output_type": "execute_result"
    }
   ],
   "source": [
    "df.describe()"
   ]
  },
  {
   "cell_type": "markdown",
   "metadata": {},
   "source": [
    "From the above table we can that there is quite a disparrity between the minimum sale and the max sale. The standard deviation is also quite large which tells us that the data points are spread out over a wide range of values indicating a possible outlier. Lets plot it out to see if our theory is correct. "
   ]
  },
  {
   "cell_type": "code",
   "execution_count": 9,
   "metadata": {},
   "outputs": [
    {
     "data": {
      "image/png": "[encoded data removed]",
      "text/plain": [
       "<Figure size 432x288 with 1 Axes>"
      ]
     },
     "metadata": {
      "needs_background": "light"
     },
     "output_type": "display_data"
    }
   ],
   "source": [
    "import seaborn as sns\n",
    "\n",
    "ax = sns.boxplot(x=df[\"Item_Outlet_Sales\"])"
   ]
  },
  {
   "cell_type": "markdown",
   "metadata": {},
   "source": [
    "![box plot](assets/boxplot.png)\n",
    "\n",
    "Boxplots are a standardized way of displaying the distribution of data based on a five number summary (“minimum”, first quartile (Q1), median, third quartile (Q3), and “maximum”).\n",
    "\n",
    "- median (Q2/50th Percentile): the middle value of the dataset.\n",
    "- first quartile (Q1/25th Percentile): the middle number between the smallest number (not the “minimum”) and the median of the dataset.\n",
    "- third quartile (Q3/75th Percentile): the middle value between the median and the highest value (not the “maximum”) of the dataset.\n",
    "- interquartile range (IQR): 25th to the 75th percentile.\n",
    "- whiskers (shown in blue)\n",
    "- outliers (shown as green circles)\n",
    "- “maximum”: Q3 + 1.5*IQR\n",
    "- “minimum”: Q1 -1.5*IQR\n",
    "\n",
    "Now after re-capping on some basic high school lessons about boxplot we can understand that our sales data contains a considerable number of outliers. Also our data seems to be skewed more towards the lower end with the median being around 2000.\n"
   ]
  },
  {
   "cell_type": "code",
   "execution_count": 20,
   "metadata": {},
   "outputs": [
    {
     "name": "stdout",
     "output_type": "stream",
     "text": [
      "Item_Weight                     8.076250\n",
      "Item_Visibility                 0.067606\n",
      "Item_MRP                       91.834300\n",
      "Outlet_Establishment_Year      17.000000\n",
      "Item_Outlet_Sales            2267.381900\n",
      "dtype: float64 Item_Weight                     8.773750\n",
      "Item_Visibility                 0.026988\n",
      "Item_MRP                       93.817950\n",
      "Outlet_Establishment_Year    1987.000000\n",
      "Item_Outlet_Sales             833.914500\n",
      "Name: 0.25, dtype: float64 Item_Weight                    16.850000\n",
      "Item_Visibility                 0.094594\n",
      "Item_MRP                      185.652250\n",
      "Outlet_Establishment_Year    2004.000000\n",
      "Item_Outlet_Sales            3101.296400\n",
      "Name: 0.75, dtype: float64\n",
      "\n",
      "max outliers:\n",
      " Item_Weight                    28.964375\n",
      "Item_Visibility                 0.196004\n",
      "Item_MRP                      323.403700\n",
      "Outlet_Establishment_Year    2029.500000\n",
      "Item_Outlet_Sales            6502.369250\n",
      "dtype: float64\n",
      "keys:  Index(['Item_Weight', 'Item_Visibility', 'Item_MRP',\n",
      "       'Outlet_Establishment_Year', 'Item_Outlet_Sales'],\n",
      "      dtype='object')\n"
     ]
    }
   ],
   "source": [
    "Q1 = df.quantile(0.25)\n",
    "Q3 = df.quantile(0.75)\n",
    "\n",
    "IQR = Q3 - Q1\n",
    "\n",
    "print(IQR, Q1, Q3)\n",
    "\n",
    "max_outliers = Q3 + 1.5 * IQR\n",
    "print('\\nmax outliers:\\n', max_outliers)"
   ]
  },
  {
   "cell_type": "markdown",
   "metadata": {},
   "source": [
    "We plot the maximum outliers and now we know the specific value of the sales outliers but also the rest of the dataframe. Lets work out if we can find the number of outliers in each column."
   ]
  },
  {
   "cell_type": "code",
   "execution_count": 54,
   "metadata": {},
   "outputs": [
    {
     "name": "stdout",
     "output_type": "stream",
     "text": [
      "660\n"
     ]
    }
   ],
   "source": [
    "import numpy as np\n",
    "\n",
    "def replaceOutliersWithNaN(values, outlier):\n",
    "    return [value if value <= outlier else np.nan for value in values ]\n",
    "    \n",
    "df1 = df.apply(lambda col: replaceOutliersWithNaN(col, max_outliers[col.name]) if col.name in max_outliers.keys() else col, axis=0)\n",
    "beforeNaN = df.isna().sum().sum()\n",
    "afterNaN = df1.isna().sum().sum()\n",
    "outlier_count = afterNaN - beforeNaN\n",
    "print(outlier_count)\n"
   ]
  }
 ],
 "metadata": {
  "interpreter": {
   "hash": "31f2aee4e71d21fbe5cf8b01ff0e069b9275f58929596ceb00d14d90e3e16cd6"
  },
  "kernelspec": {
   "display_name": "Python 3.8.9 64-bit",
   "language": "python",
   "name": "python3"
  },
  "language_info": {
   "codemirror_mode": {
    "name": "ipython",
    "version": 3
   },
   "file_extension": ".py",
   "mimetype": "text/x-python",
   "name": "python",
   "nbconvert_exporter": "python",
   "pygments_lexer": "ipython3",
   "version": "3.9.9"
  },
  "orig_nbformat": 4
 },
 "nbformat": 4,
 "nbformat_minor": 2
}
