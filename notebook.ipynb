{
 "cells": [
  {
   "cell_type": "markdown",
   "metadata": {},
   "source": [
    "# Sales Prediction for BigMart\n",
    "\n",
    "## Problem Description\n",
    "\n",
    "The data scientists at BigMart have collected 2013 sales data for 1559 products across 10 stores in different cities. Also, certain attributes of each product and store have been defined. The aim of this data science project is to build a predictive model and find out the sales of each product at a particular store.\n",
    "\n",
    "Using this model, BigMart will try to understand the properties of products and stores which play a key role in increasing sales.\n",
    "\n",
    "The data has missing values as some stores do not report all the data due to technical glitches. Hence, it will be required to treat them accordingly.\n",
    "\n",
    "This project is a regression problem i.e. we are predicting a continous value and will be solved via supervised learning because we already have past sales data."
   ]
  },
  {
   "cell_type": "markdown",
   "metadata": {},
   "source": [
    "## Exploring the dataset\n",
    "\n",
    "| Variable                  | Description                                                                      |\n",
    "|---------------------------|----------------------------------------------------------------------------------|\n",
    "| Item_Identifier           | Unique Product ID                                                                |\n",
    "| Item_Weight               | Weight of product                                                                |\n",
    "| Item_Fat_Content          | Low in fat or not (Low Fat, Regular)                                             |\n",
    "| Item_Visibility           | % of total display area allocated to the product                                 |\n",
    "| Item_Type                 | Category for the product                                                         |\n",
    "| Item_MRP                  | Maximum Retail price of the product                                              |\n",
    "| Outlet_Identifier         | Unique Store ID                                                                  |\n",
    "| Outlet_Establishment_Year | Year store was made                                                              |\n",
    "| Outlet_Size               | Size of store (small, medium, high)                                              |\n",
    "| Outlet_Location_Type      | Type of city (tier 1, tier 2, tier 3)                                            |\n",
    "| Outlet_Type               | Supermarket or grocery                                                           |\n",
    "| Item_Outlet_Sales         | Sale of product in the particular store. (Also what we are trying to predict!!!) |"
   ]
  }
 ],
 "metadata": {
  "language_info": {
   "name": "python"
  },
  "orig_nbformat": 4
 },
 "nbformat": 4,
 "nbformat_minor": 2
}
